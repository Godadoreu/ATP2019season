{
 "cells": [
  {
   "cell_type": "markdown",
   "metadata": {},
   "source": [
    "# Analysis of ATP Tour 2019 season "
   ]
  },
  {
   "cell_type": "markdown",
   "metadata": {},
   "source": [
    "### Content\n",
    "+ Introduction: ATP Tour\n",
    "+ Data description \n",
    "+ Research questions\n",
    "+ Data preparation: cleaning and shaping\n",
    "+ Data analysis and visualization\n",
    "+ Conclusion"
   ]
  },
  {
   "cell_type": "markdown",
   "metadata": {},
   "source": [
    "## 1. Introduction: ATP Tour \n",
    "### Content\n",
    "1. Definition\n",
    "2. History\n",
    "3. Tournament category\n",
    "4. ATP Ranking\n"
   ]
  },
  {
   "cell_type": "markdown",
   "metadata": {},
   "source": [
    "### 1.1 Definition\n",
    "The ATP Tour is a worldwide top-tier tennis tour for men organized by the Association of Tennis Professionals.\n",
    "\n",
    "### 1.2 History\n",
    "It was formed in September 1972 by Donald Dell, Jack Kramer, and Cliff Drysdale to protect the interests of professional tennis players, and Drysdale became the first President. Since 1990, the association has organized the ATP Tour, the worldwide tennis tour for men and linked the title of the tour with the organization's name. It is the governing body of men's professional tennis. \n",
    "\n",
    "### 1.3 Tournament types \n",
    "The ATP Tour comprises ATP Masters 1000, ATP 500, and ATP 250 tournaments. Grand Slam tournaments do not fall under the auspices of the ATP, but are overseen by the ITF (International Tennis Federation) instead. So, we can see the detailed information from the image below.\n",
    "\n",
    "<img src=\"ranking1.png\" width=\"900\">\n",
    "\n",
    "So, for ATP Masters 1000, the player who win the tournament can acquire 1000 ranking points, for ATP 500, the winner can acquire 500 ranking points and for ATP 250, they can acquire 250 ranking points. The highest ranking points are given for the Grand Slam winners, which will give 2000 ranking points. Players and doubles teams with the most ranking points (collected during the calendar year) play in the season-ending ATP Finals, which can give 1100 to 1500 ranking points for the winner. Moreover, the bigger the level of tournament, the bigger total prize money will be given for the player. From the image, we can see that the winner of ATP Finals will get a total of 4.450.000 USD.\n",
    "\n",
    "\n",
    "### 1.4 ATP Ranking \n",
    "The ATP Ranking is used for determining qualification for entry and seeding in all tournaments for both singles and doubles. Within the ATP Rankings period consisting of the past year, points are accumulated, with the exception of those for the ATP Finals, whose points are dropped following the last ATP event of the year. \n",
    "\n",
    "                                            Points are awarded as follows:\n",
    "\n",
    "<img src=\"distribution.png\" width=\"900\">\n",
    "\n",
    "#### The description of the columns from the image:\n",
    " 1. R128- Reached round of last 128\n",
    " 2. R64- Reached round of last 64\n",
    " 3. R32- Reached round of last 32\n",
    " 4. R16 - Reached round of last 16\n",
    " 5. QF - Quarterfinalist\n",
    " 6. SF - Semifinalist\n",
    " 7. F- final\n",
    " 8. W - winner\n",
    "\n",
    "As an illustration, if the player win the tournament, the player will get all the points, like if he won the Grand Slam, 2000 ranking points will be given to him, while the player who lose at the final will get only slightly more than the half of that points (1200 points). \n",
    "\n",
    "According to the level of tournament, the number of players is varying. Ranking points are awarded according to the stage of tournament reached, and the prestige of the tournament, where the four Grand Slams awarding the most points. The rankings are updated every Monday, and points are dropped 52 weeks after being awarded.  \n",
    "\n",
    "For a better result within the same tour type to be transposed one has to wait for the expiry of the first worse result from previous year. In order to get more points, the player should go to the further stage of the tournament, while if player lose at the earlier stage than previous year, the result of reached stage will be saved in rankings. So, the players should defend their ranking points or get more points each year on purpose to be higher in ranking. It only expires at the drop date of that tournament and only if the player reached a worse result or has not entered the current year.\n",
    "\n",
    "The player with the most points by the season's end is the world No. 1 of the year. Players finishing in the top eight of the Emirates ATP Rankings will qualify for the ATP Finals. For current moment, the world No.1 of the year is Novak Djokovic. \n",
    "\n",
    "   "
   ]
  },
  {
   "cell_type": "markdown",
   "metadata": {},
   "source": [
    "1. Source( https://en.wikipedia.org/wiki/ATP_Rankings)\n",
    "2. Source(https://en.wikipedia.org/wiki/ATP_Tour)\n",
    "3. Source(shorturl.at/lAIMP)\n"
   ]
  },
  {
   "cell_type": "markdown",
   "metadata": {},
   "source": [
    "## 2. Data description\n"
   ]
  },
  {
   "cell_type": "markdown",
   "metadata": {},
   "source": [
    "Based on the description of the ATP Tour above, it is clear that all the information about ATP Tour will be added to the list. As an example, the information about the number of tournaments during the year or up and down of the players ranking in the ATP rankings. The tournaments have full information about the results of players matches and it will give an opportunity to discover different data. \n",
    "    \n",
    "Our analysis will be focused in 2019 season, as it has the recent information about the ATP Tour itself. The variables that we definitely are going to analyze will be provided below:\n",
    "+ ATP - the number of tournament.\n",
    "+ Location - the place where the tournament took place.\n",
    "+ Tournament- the name of tournament. \n",
    "+ Date - the date when the match was played.\n",
    "+ Series - the category of the tennis tournament.\n",
    "+ Court - type of court (outdoors,indoors).\n",
    "+ Surface - type of surface, where the tournament is played (hard, grass, carpet or clay).\n",
    "+ Round - round of played match.\n",
    "+ Best of - the maximum number of sets playable in the match. \n",
    "+ Winner - the winner of the match.\n",
    "+ Loser - the player who lose the match.\n",
    "+ Comments - comment on the match ( Completed, won through retirement of loser, or via walkover).\n",
    "+ WRank- ATP Entry ranking of the match winner as of the start of the tournament.\n",
    "+ LRank- ATP Entry ranking of the match loser as of the start of the tournament.\n",
    "\n",
    "There are some columns which is also provided in the dataset, but they are unnecessary within the project and because of that, there is no description of them. However, if there are some problems with understanding of columns which is not in the list provided above, you can see the description for that variables from the link provided below. \n",
    "\n",
    "<b>Link:</b> <a href='notes.txt' style=\"text-decoration:None;\">Notes</a>"
   ]
  },
  {
   "cell_type": "markdown",
   "metadata": {},
   "source": [
    "## 3. Research questions"
   ]
  },
  {
   "cell_type": "markdown",
   "metadata": {},
   "source": [
    "This project is mainly focused in analysis of the given 5 questions provided below. The data visualization will be done according to them. \n",
    "1. Analyze the court, surface and series of tournaments in ATP Tour 2019 season.\n",
    "2. Analyze the popularity of tournaments by the time of the year.\n",
    "3. Analyze the player matches during the season.\n",
    "4. Analyze the performance of players by titles.\n",
    "5. Analyze the effect of rank on player matches."
   ]
  },
  {
   "cell_type": "markdown",
   "metadata": {},
   "source": [
    "## 4. Data preparation: cleaning and shaping\n",
    "### Content:\n",
    "+ Dataset information\n",
    "+ Data cleaning and shaping"
   ]
  },
  {
   "cell_type": "markdown",
   "metadata": {},
   "source": [
    "### 4.1 Dataset information\n",
    "The dataset consists of 2610 matches,  containing the matches from all the tournament categories, such as Grand Slams, ATP Finals,  Masters 1000, 500 Series and 250 Series. The corresponding data covers the ATP 2019 season from the end of December,2018 and ending by November,2019. The given dataset is provided in excel format."
   ]
  },
  {
   "cell_type": "code",
   "execution_count": 1,
   "metadata": {},
   "outputs": [],
   "source": [
    "# Import modules that will be used for observations \n",
    "import pandas as pd\n",
    "import numpy as np\n",
    "import matplotlib.pyplot as plt\n",
    "import seaborn as sns\n",
    "from collections import Counter"
   ]
  },
  {
   "cell_type": "code",
   "execution_count": 2,
   "metadata": {},
   "outputs": [],
   "source": [
    "# The name of dataset\n",
    "address = \"2019.xlsx\"\n",
    "# Reading the file in excel format\n",
    "df = pd.read_excel(address)"
   ]
  },
  {
   "cell_type": "code",
   "execution_count": 3,
   "metadata": {},
   "outputs": [
    {
     "data": {
      "text/plain": [
       "(2610, 36)"
      ]
     },
     "execution_count": 3,
     "metadata": {},
     "output_type": "execute_result"
    }
   ],
   "source": [
    "# Showing the total number of rows(goes first) and the number of columns(goes second)\n",
    "df.shape"
   ]
  },
  {
   "cell_type": "code",
   "execution_count": 4,
   "metadata": {
    "scrolled": true
   },
   "outputs": [
    {
     "data": {
      "text/plain": [
       "ATP                    int64\n",
       "Location              object\n",
       "Tournament            object\n",
       "Date          datetime64[ns]\n",
       "Series                object\n",
       "Court                 object\n",
       "Surface               object\n",
       "Round                 object\n",
       "Best of                int64\n",
       "Winner                object\n",
       "Loser                 object\n",
       "WRank                float64\n",
       "LRank                float64\n",
       "WPts                 float64\n",
       "LPts                 float64\n",
       "W1                   float64\n",
       "L1                   float64\n",
       "W2                   float64\n",
       "L2                   float64\n",
       "W3                   float64\n",
       "L3                   float64\n",
       "W4                   float64\n",
       "L4                   float64\n",
       "W5                   float64\n",
       "L5                   float64\n",
       "Wsets                float64\n",
       "Lsets                float64\n",
       "Comment               object\n",
       "B365W                float64\n",
       "B365L                float64\n",
       "PSW                  float64\n",
       "PSL                  float64\n",
       "MaxW                 float64\n",
       "MaxL                 float64\n",
       "AvgW                 float64\n",
       "AvgL                 float64\n",
       "dtype: object"
      ]
     },
     "execution_count": 4,
     "metadata": {},
     "output_type": "execute_result"
    }
   ],
   "source": [
    "# Showing the data type of each column in the dataset\n",
    "df.dtypes"
   ]
  },
  {
   "cell_type": "code",
   "execution_count": 5,
   "metadata": {
    "scrolled": true
   },
   "outputs": [
    {
     "data": {
      "text/html": [
       "<div>\n",
       "<style scoped>\n",
       "    .dataframe tbody tr th:only-of-type {\n",
       "        vertical-align: middle;\n",
       "    }\n",
       "\n",
       "    .dataframe tbody tr th {\n",
       "        vertical-align: top;\n",
       "    }\n",
       "\n",
       "    .dataframe thead th {\n",
       "        text-align: right;\n",
       "    }\n",
       "</style>\n",
       "<table border=\"1\" class=\"dataframe\">\n",
       "  <thead>\n",
       "    <tr style=\"text-align: right;\">\n",
       "      <th></th>\n",
       "      <th>ATP</th>\n",
       "      <th>Location</th>\n",
       "      <th>Tournament</th>\n",
       "      <th>Date</th>\n",
       "      <th>Series</th>\n",
       "      <th>Court</th>\n",
       "      <th>Surface</th>\n",
       "      <th>Round</th>\n",
       "      <th>Best of</th>\n",
       "      <th>Winner</th>\n",
       "      <th>...</th>\n",
       "      <th>Lsets</th>\n",
       "      <th>Comment</th>\n",
       "      <th>B365W</th>\n",
       "      <th>B365L</th>\n",
       "      <th>PSW</th>\n",
       "      <th>PSL</th>\n",
       "      <th>MaxW</th>\n",
       "      <th>MaxL</th>\n",
       "      <th>AvgW</th>\n",
       "      <th>AvgL</th>\n",
       "    </tr>\n",
       "  </thead>\n",
       "  <tbody>\n",
       "    <tr>\n",
       "      <th>1</th>\n",
       "      <td>1</td>\n",
       "      <td>Brisbane</td>\n",
       "      <td>Brisbane International</td>\n",
       "      <td>2018-12-31</td>\n",
       "      <td>ATP250</td>\n",
       "      <td>Outdoor</td>\n",
       "      <td>Hard</td>\n",
       "      <td>1st Round</td>\n",
       "      <td>3</td>\n",
       "      <td>Dimitrov G.</td>\n",
       "      <td>...</td>\n",
       "      <td>0.0</td>\n",
       "      <td>Completed</td>\n",
       "      <td>1.36</td>\n",
       "      <td>3.00</td>\n",
       "      <td>1.36</td>\n",
       "      <td>3.37</td>\n",
       "      <td>1.42</td>\n",
       "      <td>3.60</td>\n",
       "      <td>1.35</td>\n",
       "      <td>3.18</td>\n",
       "    </tr>\n",
       "    <tr>\n",
       "      <th>2</th>\n",
       "      <td>1</td>\n",
       "      <td>Brisbane</td>\n",
       "      <td>Brisbane International</td>\n",
       "      <td>2018-12-31</td>\n",
       "      <td>ATP250</td>\n",
       "      <td>Outdoor</td>\n",
       "      <td>Hard</td>\n",
       "      <td>1st Round</td>\n",
       "      <td>3</td>\n",
       "      <td>Raonic M.</td>\n",
       "      <td>...</td>\n",
       "      <td>0.0</td>\n",
       "      <td>Completed</td>\n",
       "      <td>1.18</td>\n",
       "      <td>4.50</td>\n",
       "      <td>1.23</td>\n",
       "      <td>4.68</td>\n",
       "      <td>1.27</td>\n",
       "      <td>4.84</td>\n",
       "      <td>1.22</td>\n",
       "      <td>4.26</td>\n",
       "    </tr>\n",
       "    <tr>\n",
       "      <th>3</th>\n",
       "      <td>1</td>\n",
       "      <td>Brisbane</td>\n",
       "      <td>Brisbane International</td>\n",
       "      <td>2018-12-31</td>\n",
       "      <td>ATP250</td>\n",
       "      <td>Outdoor</td>\n",
       "      <td>Hard</td>\n",
       "      <td>1st Round</td>\n",
       "      <td>3</td>\n",
       "      <td>Kecmanovic M.</td>\n",
       "      <td>...</td>\n",
       "      <td>0.0</td>\n",
       "      <td>Completed</td>\n",
       "      <td>1.57</td>\n",
       "      <td>2.25</td>\n",
       "      <td>1.67</td>\n",
       "      <td>2.32</td>\n",
       "      <td>1.71</td>\n",
       "      <td>2.40</td>\n",
       "      <td>1.63</td>\n",
       "      <td>2.28</td>\n",
       "    </tr>\n",
       "    <tr>\n",
       "      <th>4</th>\n",
       "      <td>1</td>\n",
       "      <td>Brisbane</td>\n",
       "      <td>Brisbane International</td>\n",
       "      <td>2018-12-31</td>\n",
       "      <td>ATP250</td>\n",
       "      <td>Outdoor</td>\n",
       "      <td>Hard</td>\n",
       "      <td>1st Round</td>\n",
       "      <td>3</td>\n",
       "      <td>Millman J.</td>\n",
       "      <td>...</td>\n",
       "      <td>1.0</td>\n",
       "      <td>Completed</td>\n",
       "      <td>1.40</td>\n",
       "      <td>2.75</td>\n",
       "      <td>1.41</td>\n",
       "      <td>3.13</td>\n",
       "      <td>1.45</td>\n",
       "      <td>3.20</td>\n",
       "      <td>1.40</td>\n",
       "      <td>2.95</td>\n",
       "    </tr>\n",
       "    <tr>\n",
       "      <th>5</th>\n",
       "      <td>1</td>\n",
       "      <td>Brisbane</td>\n",
       "      <td>Brisbane International</td>\n",
       "      <td>2018-12-31</td>\n",
       "      <td>ATP250</td>\n",
       "      <td>Outdoor</td>\n",
       "      <td>Hard</td>\n",
       "      <td>1st Round</td>\n",
       "      <td>3</td>\n",
       "      <td>Uchiyama Y.</td>\n",
       "      <td>...</td>\n",
       "      <td>0.0</td>\n",
       "      <td>Completed</td>\n",
       "      <td>2.62</td>\n",
       "      <td>1.44</td>\n",
       "      <td>2.73</td>\n",
       "      <td>1.51</td>\n",
       "      <td>3.26</td>\n",
       "      <td>1.53</td>\n",
       "      <td>2.69</td>\n",
       "      <td>1.47</td>\n",
       "    </tr>\n",
       "  </tbody>\n",
       "</table>\n",
       "<p>5 rows × 36 columns</p>\n",
       "</div>"
      ],
      "text/plain": [
       "   ATP  Location              Tournament       Date  Series    Court Surface  \\\n",
       "1    1  Brisbane  Brisbane International 2018-12-31  ATP250  Outdoor    Hard   \n",
       "2    1  Brisbane  Brisbane International 2018-12-31  ATP250  Outdoor    Hard   \n",
       "3    1  Brisbane  Brisbane International 2018-12-31  ATP250  Outdoor    Hard   \n",
       "4    1  Brisbane  Brisbane International 2018-12-31  ATP250  Outdoor    Hard   \n",
       "5    1  Brisbane  Brisbane International 2018-12-31  ATP250  Outdoor    Hard   \n",
       "\n",
       "       Round  Best of         Winner  ... Lsets    Comment  B365W  B365L  \\\n",
       "1  1st Round        3    Dimitrov G.  ...   0.0  Completed   1.36   3.00   \n",
       "2  1st Round        3      Raonic M.  ...   0.0  Completed   1.18   4.50   \n",
       "3  1st Round        3  Kecmanovic M.  ...   0.0  Completed   1.57   2.25   \n",
       "4  1st Round        3     Millman J.  ...   1.0  Completed   1.40   2.75   \n",
       "5  1st Round        3    Uchiyama Y.  ...   0.0  Completed   2.62   1.44   \n",
       "\n",
       "    PSW   PSL  MaxW  MaxL  AvgW  AvgL  \n",
       "1  1.36  3.37  1.42  3.60  1.35  3.18  \n",
       "2  1.23  4.68  1.27  4.84  1.22  4.26  \n",
       "3  1.67  2.32  1.71  2.40  1.63  2.28  \n",
       "4  1.41  3.13  1.45  3.20  1.40  2.95  \n",
       "5  2.73  1.51  3.26  1.53  2.69  1.47  \n",
       "\n",
       "[5 rows x 36 columns]"
      ]
     },
     "execution_count": 5,
     "metadata": {},
     "output_type": "execute_result"
    }
   ],
   "source": [
    "# Showing the first five rows of dataset\n",
    "# Start counting the rows from 1 instead of default 0\n",
    "df.index = df.index+1\n",
    "df.head()"
   ]
  },
  {
   "cell_type": "code",
   "execution_count": 6,
   "metadata": {
    "scrolled": true
   },
   "outputs": [
    {
     "data": {
      "text/html": [
       "<div>\n",
       "<style scoped>\n",
       "    .dataframe tbody tr th:only-of-type {\n",
       "        vertical-align: middle;\n",
       "    }\n",
       "\n",
       "    .dataframe tbody tr th {\n",
       "        vertical-align: top;\n",
       "    }\n",
       "\n",
       "    .dataframe thead th {\n",
       "        text-align: right;\n",
       "    }\n",
       "</style>\n",
       "<table border=\"1\" class=\"dataframe\">\n",
       "  <thead>\n",
       "    <tr style=\"text-align: right;\">\n",
       "      <th></th>\n",
       "      <th>ATP</th>\n",
       "      <th>Location</th>\n",
       "      <th>Tournament</th>\n",
       "      <th>Date</th>\n",
       "      <th>Series</th>\n",
       "      <th>Court</th>\n",
       "      <th>Surface</th>\n",
       "      <th>Round</th>\n",
       "      <th>Best of</th>\n",
       "      <th>Winner</th>\n",
       "      <th>...</th>\n",
       "      <th>Lsets</th>\n",
       "      <th>Comment</th>\n",
       "      <th>B365W</th>\n",
       "      <th>B365L</th>\n",
       "      <th>PSW</th>\n",
       "      <th>PSL</th>\n",
       "      <th>MaxW</th>\n",
       "      <th>MaxL</th>\n",
       "      <th>AvgW</th>\n",
       "      <th>AvgL</th>\n",
       "    </tr>\n",
       "  </thead>\n",
       "  <tbody>\n",
       "    <tr>\n",
       "      <th>2606</th>\n",
       "      <td>66</td>\n",
       "      <td>London</td>\n",
       "      <td>Masters Cup</td>\n",
       "      <td>2019-11-15</td>\n",
       "      <td>Masters Cup</td>\n",
       "      <td>Indoor</td>\n",
       "      <td>Hard</td>\n",
       "      <td>Round Robin</td>\n",
       "      <td>3</td>\n",
       "      <td>Nadal R.</td>\n",
       "      <td>...</td>\n",
       "      <td>1.0</td>\n",
       "      <td>Completed</td>\n",
       "      <td>1.44</td>\n",
       "      <td>2.75</td>\n",
       "      <td>1.39</td>\n",
       "      <td>3.26</td>\n",
       "      <td>1.48</td>\n",
       "      <td>3.30</td>\n",
       "      <td>1.41</td>\n",
       "      <td>2.93</td>\n",
       "    </tr>\n",
       "    <tr>\n",
       "      <th>2607</th>\n",
       "      <td>66</td>\n",
       "      <td>London</td>\n",
       "      <td>Masters Cup</td>\n",
       "      <td>2019-11-15</td>\n",
       "      <td>Masters Cup</td>\n",
       "      <td>Indoor</td>\n",
       "      <td>Hard</td>\n",
       "      <td>Round Robin</td>\n",
       "      <td>3</td>\n",
       "      <td>Zverev A.</td>\n",
       "      <td>...</td>\n",
       "      <td>0.0</td>\n",
       "      <td>Completed</td>\n",
       "      <td>1.90</td>\n",
       "      <td>1.90</td>\n",
       "      <td>2.14</td>\n",
       "      <td>1.79</td>\n",
       "      <td>2.24</td>\n",
       "      <td>2.06</td>\n",
       "      <td>1.92</td>\n",
       "      <td>1.90</td>\n",
       "    </tr>\n",
       "    <tr>\n",
       "      <th>2608</th>\n",
       "      <td>66</td>\n",
       "      <td>London</td>\n",
       "      <td>Masters Cup</td>\n",
       "      <td>2019-11-16</td>\n",
       "      <td>Masters Cup</td>\n",
       "      <td>Indoor</td>\n",
       "      <td>Hard</td>\n",
       "      <td>Semifinals</td>\n",
       "      <td>3</td>\n",
       "      <td>Tsitsipas S.</td>\n",
       "      <td>...</td>\n",
       "      <td>0.0</td>\n",
       "      <td>Completed</td>\n",
       "      <td>3.50</td>\n",
       "      <td>1.30</td>\n",
       "      <td>3.75</td>\n",
       "      <td>1.33</td>\n",
       "      <td>3.75</td>\n",
       "      <td>1.40</td>\n",
       "      <td>3.39</td>\n",
       "      <td>1.33</td>\n",
       "    </tr>\n",
       "    <tr>\n",
       "      <th>2609</th>\n",
       "      <td>66</td>\n",
       "      <td>London</td>\n",
       "      <td>Masters Cup</td>\n",
       "      <td>2019-11-16</td>\n",
       "      <td>Masters Cup</td>\n",
       "      <td>Indoor</td>\n",
       "      <td>Hard</td>\n",
       "      <td>Semifinals</td>\n",
       "      <td>3</td>\n",
       "      <td>Thiem D.</td>\n",
       "      <td>...</td>\n",
       "      <td>0.0</td>\n",
       "      <td>Completed</td>\n",
       "      <td>1.80</td>\n",
       "      <td>2.00</td>\n",
       "      <td>1.84</td>\n",
       "      <td>2.10</td>\n",
       "      <td>1.87</td>\n",
       "      <td>2.20</td>\n",
       "      <td>1.78</td>\n",
       "      <td>2.06</td>\n",
       "    </tr>\n",
       "    <tr>\n",
       "      <th>2610</th>\n",
       "      <td>66</td>\n",
       "      <td>London</td>\n",
       "      <td>Masters Cup</td>\n",
       "      <td>2019-11-17</td>\n",
       "      <td>Masters Cup</td>\n",
       "      <td>Indoor</td>\n",
       "      <td>Hard</td>\n",
       "      <td>The Final</td>\n",
       "      <td>3</td>\n",
       "      <td>Tsitsipas S.</td>\n",
       "      <td>...</td>\n",
       "      <td>1.0</td>\n",
       "      <td>Completed</td>\n",
       "      <td>2.00</td>\n",
       "      <td>1.80</td>\n",
       "      <td>2.00</td>\n",
       "      <td>1.93</td>\n",
       "      <td>2.05</td>\n",
       "      <td>1.93</td>\n",
       "      <td>1.96</td>\n",
       "      <td>1.86</td>\n",
       "    </tr>\n",
       "  </tbody>\n",
       "</table>\n",
       "<p>5 rows × 36 columns</p>\n",
       "</div>"
      ],
      "text/plain": [
       "      ATP Location   Tournament       Date       Series   Court Surface  \\\n",
       "2606   66   London  Masters Cup 2019-11-15  Masters Cup  Indoor    Hard   \n",
       "2607   66   London  Masters Cup 2019-11-15  Masters Cup  Indoor    Hard   \n",
       "2608   66   London  Masters Cup 2019-11-16  Masters Cup  Indoor    Hard   \n",
       "2609   66   London  Masters Cup 2019-11-16  Masters Cup  Indoor    Hard   \n",
       "2610   66   London  Masters Cup 2019-11-17  Masters Cup  Indoor    Hard   \n",
       "\n",
       "            Round  Best of         Winner  ... Lsets    Comment  B365W  B365L  \\\n",
       "2606  Round Robin        3      Nadal R.   ...   1.0  Completed   1.44   2.75   \n",
       "2607  Round Robin        3     Zverev A.   ...   0.0  Completed   1.90   1.90   \n",
       "2608   Semifinals        3  Tsitsipas S.   ...   0.0  Completed   3.50   1.30   \n",
       "2609   Semifinals        3      Thiem D.   ...   0.0  Completed   1.80   2.00   \n",
       "2610    The Final        3  Tsitsipas S.   ...   1.0  Completed   2.00   1.80   \n",
       "\n",
       "       PSW   PSL  MaxW  MaxL  AvgW  AvgL  \n",
       "2606  1.39  3.26  1.48  3.30  1.41  2.93  \n",
       "2607  2.14  1.79  2.24  2.06  1.92  1.90  \n",
       "2608  3.75  1.33  3.75  1.40  3.39  1.33  \n",
       "2609  1.84  2.10  1.87  2.20  1.78  2.06  \n",
       "2610  2.00  1.93  2.05  1.93  1.96  1.86  \n",
       "\n",
       "[5 rows x 36 columns]"
      ]
     },
     "execution_count": 6,
     "metadata": {},
     "output_type": "execute_result"
    }
   ],
   "source": [
    "#Showing the last five rows of dataset\n",
    "df.tail()"
   ]
  },
  {
   "cell_type": "code",
   "execution_count": 7,
   "metadata": {},
   "outputs": [
    {
     "data": {
      "text/html": [
       "<div>\n",
       "<style scoped>\n",
       "    .dataframe tbody tr th:only-of-type {\n",
       "        vertical-align: middle;\n",
       "    }\n",
       "\n",
       "    .dataframe tbody tr th {\n",
       "        vertical-align: top;\n",
       "    }\n",
       "\n",
       "    .dataframe thead th {\n",
       "        text-align: right;\n",
       "    }\n",
       "</style>\n",
       "<table border=\"1\" class=\"dataframe\">\n",
       "  <thead>\n",
       "    <tr style=\"text-align: right;\">\n",
       "      <th></th>\n",
       "      <th>ATP</th>\n",
       "      <th>Location</th>\n",
       "      <th>Tournament</th>\n",
       "      <th>Date</th>\n",
       "      <th>Series</th>\n",
       "      <th>Court</th>\n",
       "      <th>Surface</th>\n",
       "      <th>Round</th>\n",
       "      <th>Best of</th>\n",
       "      <th>Winner</th>\n",
       "      <th>...</th>\n",
       "      <th>Lsets</th>\n",
       "      <th>Comment</th>\n",
       "      <th>B365W</th>\n",
       "      <th>B365L</th>\n",
       "      <th>PSW</th>\n",
       "      <th>PSL</th>\n",
       "      <th>MaxW</th>\n",
       "      <th>MaxL</th>\n",
       "      <th>AvgW</th>\n",
       "      <th>AvgL</th>\n",
       "    </tr>\n",
       "  </thead>\n",
       "  <tbody>\n",
       "    <tr>\n",
       "      <th>1</th>\n",
       "      <td>1</td>\n",
       "      <td>Brisbane</td>\n",
       "      <td>Brisbane International</td>\n",
       "      <td>2018-12-31</td>\n",
       "      <td>ATP250</td>\n",
       "      <td>Outdoor</td>\n",
       "      <td>Hard</td>\n",
       "      <td>1st Round</td>\n",
       "      <td>3</td>\n",
       "      <td>Dimitrov G.</td>\n",
       "      <td>...</td>\n",
       "      <td>0.0</td>\n",
       "      <td>Completed</td>\n",
       "      <td>1.36</td>\n",
       "      <td>3.00</td>\n",
       "      <td>1.36</td>\n",
       "      <td>3.37</td>\n",
       "      <td>1.42</td>\n",
       "      <td>3.60</td>\n",
       "      <td>1.35</td>\n",
       "      <td>3.18</td>\n",
       "    </tr>\n",
       "    <tr>\n",
       "      <th>2</th>\n",
       "      <td>1</td>\n",
       "      <td>Brisbane</td>\n",
       "      <td>Brisbane International</td>\n",
       "      <td>2018-12-31</td>\n",
       "      <td>ATP250</td>\n",
       "      <td>Outdoor</td>\n",
       "      <td>Hard</td>\n",
       "      <td>1st Round</td>\n",
       "      <td>3</td>\n",
       "      <td>Raonic M.</td>\n",
       "      <td>...</td>\n",
       "      <td>0.0</td>\n",
       "      <td>Completed</td>\n",
       "      <td>1.18</td>\n",
       "      <td>4.50</td>\n",
       "      <td>1.23</td>\n",
       "      <td>4.68</td>\n",
       "      <td>1.27</td>\n",
       "      <td>4.84</td>\n",
       "      <td>1.22</td>\n",
       "      <td>4.26</td>\n",
       "    </tr>\n",
       "    <tr>\n",
       "      <th>3</th>\n",
       "      <td>1</td>\n",
       "      <td>Brisbane</td>\n",
       "      <td>Brisbane International</td>\n",
       "      <td>2018-12-31</td>\n",
       "      <td>ATP250</td>\n",
       "      <td>Outdoor</td>\n",
       "      <td>Hard</td>\n",
       "      <td>1st Round</td>\n",
       "      <td>3</td>\n",
       "      <td>Kecmanovic M.</td>\n",
       "      <td>...</td>\n",
       "      <td>0.0</td>\n",
       "      <td>Completed</td>\n",
       "      <td>1.57</td>\n",
       "      <td>2.25</td>\n",
       "      <td>1.67</td>\n",
       "      <td>2.32</td>\n",
       "      <td>1.71</td>\n",
       "      <td>2.40</td>\n",
       "      <td>1.63</td>\n",
       "      <td>2.28</td>\n",
       "    </tr>\n",
       "    <tr>\n",
       "      <th>4</th>\n",
       "      <td>1</td>\n",
       "      <td>Brisbane</td>\n",
       "      <td>Brisbane International</td>\n",
       "      <td>2018-12-31</td>\n",
       "      <td>ATP250</td>\n",
       "      <td>Outdoor</td>\n",
       "      <td>Hard</td>\n",
       "      <td>1st Round</td>\n",
       "      <td>3</td>\n",
       "      <td>Millman J.</td>\n",
       "      <td>...</td>\n",
       "      <td>1.0</td>\n",
       "      <td>Completed</td>\n",
       "      <td>1.40</td>\n",
       "      <td>2.75</td>\n",
       "      <td>1.41</td>\n",
       "      <td>3.13</td>\n",
       "      <td>1.45</td>\n",
       "      <td>3.20</td>\n",
       "      <td>1.40</td>\n",
       "      <td>2.95</td>\n",
       "    </tr>\n",
       "    <tr>\n",
       "      <th>5</th>\n",
       "      <td>1</td>\n",
       "      <td>Brisbane</td>\n",
       "      <td>Brisbane International</td>\n",
       "      <td>2018-12-31</td>\n",
       "      <td>ATP250</td>\n",
       "      <td>Outdoor</td>\n",
       "      <td>Hard</td>\n",
       "      <td>1st Round</td>\n",
       "      <td>3</td>\n",
       "      <td>Uchiyama Y.</td>\n",
       "      <td>...</td>\n",
       "      <td>0.0</td>\n",
       "      <td>Completed</td>\n",
       "      <td>2.62</td>\n",
       "      <td>1.44</td>\n",
       "      <td>2.73</td>\n",
       "      <td>1.51</td>\n",
       "      <td>3.26</td>\n",
       "      <td>1.53</td>\n",
       "      <td>2.69</td>\n",
       "      <td>1.47</td>\n",
       "    </tr>\n",
       "    <tr>\n",
       "      <th>...</th>\n",
       "      <td>...</td>\n",
       "      <td>...</td>\n",
       "      <td>...</td>\n",
       "      <td>...</td>\n",
       "      <td>...</td>\n",
       "      <td>...</td>\n",
       "      <td>...</td>\n",
       "      <td>...</td>\n",
       "      <td>...</td>\n",
       "      <td>...</td>\n",
       "      <td>...</td>\n",
       "      <td>...</td>\n",
       "      <td>...</td>\n",
       "      <td>...</td>\n",
       "      <td>...</td>\n",
       "      <td>...</td>\n",
       "      <td>...</td>\n",
       "      <td>...</td>\n",
       "      <td>...</td>\n",
       "      <td>...</td>\n",
       "      <td>...</td>\n",
       "    </tr>\n",
       "    <tr>\n",
       "      <th>2606</th>\n",
       "      <td>66</td>\n",
       "      <td>London</td>\n",
       "      <td>Masters Cup</td>\n",
       "      <td>2019-11-15</td>\n",
       "      <td>Masters Cup</td>\n",
       "      <td>Indoor</td>\n",
       "      <td>Hard</td>\n",
       "      <td>Round Robin</td>\n",
       "      <td>3</td>\n",
       "      <td>Nadal R.</td>\n",
       "      <td>...</td>\n",
       "      <td>1.0</td>\n",
       "      <td>Completed</td>\n",
       "      <td>1.44</td>\n",
       "      <td>2.75</td>\n",
       "      <td>1.39</td>\n",
       "      <td>3.26</td>\n",
       "      <td>1.48</td>\n",
       "      <td>3.30</td>\n",
       "      <td>1.41</td>\n",
       "      <td>2.93</td>\n",
       "    </tr>\n",
       "    <tr>\n",
       "      <th>2607</th>\n",
       "      <td>66</td>\n",
       "      <td>London</td>\n",
       "      <td>Masters Cup</td>\n",
       "      <td>2019-11-15</td>\n",
       "      <td>Masters Cup</td>\n",
       "      <td>Indoor</td>\n",
       "      <td>Hard</td>\n",
       "      <td>Round Robin</td>\n",
       "      <td>3</td>\n",
       "      <td>Zverev A.</td>\n",
       "      <td>...</td>\n",
       "      <td>0.0</td>\n",
       "      <td>Completed</td>\n",
       "      <td>1.90</td>\n",
       "      <td>1.90</td>\n",
       "      <td>2.14</td>\n",
       "      <td>1.79</td>\n",
       "      <td>2.24</td>\n",
       "      <td>2.06</td>\n",
       "      <td>1.92</td>\n",
       "      <td>1.90</td>\n",
       "    </tr>\n",
       "    <tr>\n",
       "      <th>2608</th>\n",
       "      <td>66</td>\n",
       "      <td>London</td>\n",
       "      <td>Masters Cup</td>\n",
       "      <td>2019-11-16</td>\n",
       "      <td>Masters Cup</td>\n",
       "      <td>Indoor</td>\n",
       "      <td>Hard</td>\n",
       "      <td>Semifinals</td>\n",
       "      <td>3</td>\n",
       "      <td>Tsitsipas S.</td>\n",
       "      <td>...</td>\n",
       "      <td>0.0</td>\n",
       "      <td>Completed</td>\n",
       "      <td>3.50</td>\n",
       "      <td>1.30</td>\n",
       "      <td>3.75</td>\n",
       "      <td>1.33</td>\n",
       "      <td>3.75</td>\n",
       "      <td>1.40</td>\n",
       "      <td>3.39</td>\n",
       "      <td>1.33</td>\n",
       "    </tr>\n",
       "    <tr>\n",
       "      <th>2609</th>\n",
       "      <td>66</td>\n",
       "      <td>London</td>\n",
       "      <td>Masters Cup</td>\n",
       "      <td>2019-11-16</td>\n",
       "      <td>Masters Cup</td>\n",
       "      <td>Indoor</td>\n",
       "      <td>Hard</td>\n",
       "      <td>Semifinals</td>\n",
       "      <td>3</td>\n",
       "      <td>Thiem D.</td>\n",
       "      <td>...</td>\n",
       "      <td>0.0</td>\n",
       "      <td>Completed</td>\n",
       "      <td>1.80</td>\n",
       "      <td>2.00</td>\n",
       "      <td>1.84</td>\n",
       "      <td>2.10</td>\n",
       "      <td>1.87</td>\n",
       "      <td>2.20</td>\n",
       "      <td>1.78</td>\n",
       "      <td>2.06</td>\n",
       "    </tr>\n",
       "    <tr>\n",
       "      <th>2610</th>\n",
       "      <td>66</td>\n",
       "      <td>London</td>\n",
       "      <td>Masters Cup</td>\n",
       "      <td>2019-11-17</td>\n",
       "      <td>Masters Cup</td>\n",
       "      <td>Indoor</td>\n",
       "      <td>Hard</td>\n",
       "      <td>The Final</td>\n",
       "      <td>3</td>\n",
       "      <td>Tsitsipas S.</td>\n",
       "      <td>...</td>\n",
       "      <td>1.0</td>\n",
       "      <td>Completed</td>\n",
       "      <td>2.00</td>\n",
       "      <td>1.80</td>\n",
       "      <td>2.00</td>\n",
       "      <td>1.93</td>\n",
       "      <td>2.05</td>\n",
       "      <td>1.93</td>\n",
       "      <td>1.96</td>\n",
       "      <td>1.86</td>\n",
       "    </tr>\n",
       "  </tbody>\n",
       "</table>\n",
       "<p>2610 rows × 36 columns</p>\n",
       "</div>"
      ],
      "text/plain": [
       "      ATP  Location              Tournament       Date       Series    Court  \\\n",
       "1       1  Brisbane  Brisbane International 2018-12-31       ATP250  Outdoor   \n",
       "2       1  Brisbane  Brisbane International 2018-12-31       ATP250  Outdoor   \n",
       "3       1  Brisbane  Brisbane International 2018-12-31       ATP250  Outdoor   \n",
       "4       1  Brisbane  Brisbane International 2018-12-31       ATP250  Outdoor   \n",
       "5       1  Brisbane  Brisbane International 2018-12-31       ATP250  Outdoor   \n",
       "...   ...       ...                     ...        ...          ...      ...   \n",
       "2606   66    London             Masters Cup 2019-11-15  Masters Cup   Indoor   \n",
       "2607   66    London             Masters Cup 2019-11-15  Masters Cup   Indoor   \n",
       "2608   66    London             Masters Cup 2019-11-16  Masters Cup   Indoor   \n",
       "2609   66    London             Masters Cup 2019-11-16  Masters Cup   Indoor   \n",
       "2610   66    London             Masters Cup 2019-11-17  Masters Cup   Indoor   \n",
       "\n",
       "     Surface        Round  Best of         Winner  ... Lsets    Comment  \\\n",
       "1       Hard    1st Round        3    Dimitrov G.  ...   0.0  Completed   \n",
       "2       Hard    1st Round        3      Raonic M.  ...   0.0  Completed   \n",
       "3       Hard    1st Round        3  Kecmanovic M.  ...   0.0  Completed   \n",
       "4       Hard    1st Round        3     Millman J.  ...   1.0  Completed   \n",
       "5       Hard    1st Round        3    Uchiyama Y.  ...   0.0  Completed   \n",
       "...      ...          ...      ...            ...  ...   ...        ...   \n",
       "2606    Hard  Round Robin        3      Nadal R.   ...   1.0  Completed   \n",
       "2607    Hard  Round Robin        3     Zverev A.   ...   0.0  Completed   \n",
       "2608    Hard   Semifinals        3  Tsitsipas S.   ...   0.0  Completed   \n",
       "2609    Hard   Semifinals        3      Thiem D.   ...   0.0  Completed   \n",
       "2610    Hard    The Final        3  Tsitsipas S.   ...   1.0  Completed   \n",
       "\n",
       "      B365W  B365L   PSW   PSL  MaxW  MaxL  AvgW  AvgL  \n",
       "1      1.36   3.00  1.36  3.37  1.42  3.60  1.35  3.18  \n",
       "2      1.18   4.50  1.23  4.68  1.27  4.84  1.22  4.26  \n",
       "3      1.57   2.25  1.67  2.32  1.71  2.40  1.63  2.28  \n",
       "4      1.40   2.75  1.41  3.13  1.45  3.20  1.40  2.95  \n",
       "5      2.62   1.44  2.73  1.51  3.26  1.53  2.69  1.47  \n",
       "...     ...    ...   ...   ...   ...   ...   ...   ...  \n",
       "2606   1.44   2.75  1.39  3.26  1.48  3.30  1.41  2.93  \n",
       "2607   1.90   1.90  2.14  1.79  2.24  2.06  1.92  1.90  \n",
       "2608   3.50   1.30  3.75  1.33  3.75  1.40  3.39  1.33  \n",
       "2609   1.80   2.00  1.84  2.10  1.87  2.20  1.78  2.06  \n",
       "2610   2.00   1.80  2.00  1.93  2.05  1.93  1.96  1.86  \n",
       "\n",
       "[2610 rows x 36 columns]"
      ]
     },
     "execution_count": 7,
     "metadata": {},
     "output_type": "execute_result"
    }
   ],
   "source": [
    "#Finally, let's take a look at the dataset itself\n",
    "df"
   ]
  },
  {
   "cell_type": "markdown",
   "metadata": {},
   "source": [
    "### 4.2 Data cleaning and shaping"
   ]
  },
  {
   "cell_type": "markdown",
   "metadata": {},
   "source": [
    "One of the most important things before starting the analysis is checking the dataset for its clearness. \\\n",
    "Some of the steps which is need to be done in order to be sure:\n",
    "1. Dropping unuseful columns from dataset.\n",
    "2. Checking the dataset for inconsistent column names\n",
    "3. Checking the dataset for null values\n",
    "4. Checking the dataset for duplicates"
   ]
  },
  {
   "cell_type": "markdown",
   "metadata": {},
   "source": [
    "#### 4.2.1 Dropping unuseful columns from dataset"
   ]
  },
  {
   "cell_type": "markdown",
   "metadata": {},
   "source": [
    "There were 2-3 content tables, which makes the dataset unclear and because of that I decided to get rid of all unneccessary data from the dataset."
   ]
  },
  {
   "cell_type": "code",
   "execution_count": 8,
   "metadata": {},
   "outputs": [],
   "source": [
    "# Dropping the unuseful columns from the dataset\n",
    "df = df.drop(columns=['MaxW', 'MaxL',\n",
    "       'AvgW', 'AvgL','B365W','B365L','PSW','PSL','W1', 'L1',\n",
    "       'L3', 'W3','W4','L4','W5','L5','W2','L2','WPts','LPts','Wsets','Lsets'])"
   ]
  },
  {
   "cell_type": "markdown",
   "metadata": {},
   "source": [
    "#### 4.2.2 Checking the dataset for inconsistent column names"
   ]
  },
  {
   "cell_type": "code",
   "execution_count": 9,
   "metadata": {},
   "outputs": [
    {
     "name": "stdout",
     "output_type": "stream",
     "text": [
      "There is a total of: 14 columns\n"
     ]
    },
    {
     "data": {
      "text/plain": [
       "Index(['ATP', 'Location', 'Tournament', 'Date', 'Series', 'Court', 'Surface',\n",
       "       'Round', 'Best of', 'Winner', 'Loser', 'WRank', 'LRank', 'Comment'],\n",
       "      dtype='object')"
      ]
     },
     "execution_count": 9,
     "metadata": {},
     "output_type": "execute_result"
    }
   ],
   "source": [
    "#Showing the total number of columns\n",
    "print(\"There is a total of: \"+ str(len(df.columns))+\" columns\")\n",
    "\n",
    "# Showing the columns which is shown in the dataset\n",
    "df.columns"
   ]
  },
  {
   "cell_type": "markdown",
   "metadata": {},
   "source": [
    "We can see that, the column names is consistent and have capitalizations. Moreover, it doesn't have bad characters in it. So, there are no problems with inconsistency. The description of column names is written in \"Data description\" part. "
   ]
  },
  {
   "cell_type": "markdown",
   "metadata": {},
   "source": [
    "#### 4.2.3 Checking the dataset for missing values"
   ]
  },
  {
   "cell_type": "code",
   "execution_count": 10,
   "metadata": {},
   "outputs": [
    {
     "name": "stdout",
     "output_type": "stream",
     "text": [
      "<class 'pandas.core.frame.DataFrame'>\n",
      "RangeIndex: 2610 entries, 1 to 2610\n",
      "Data columns (total 14 columns):\n",
      " #   Column      Non-Null Count  Dtype         \n",
      "---  ------      --------------  -----         \n",
      " 0   ATP         2610 non-null   int64         \n",
      " 1   Location    2610 non-null   object        \n",
      " 2   Tournament  2610 non-null   object        \n",
      " 3   Date        2610 non-null   datetime64[ns]\n",
      " 4   Series      2610 non-null   object        \n",
      " 5   Court       2610 non-null   object        \n",
      " 6   Surface     2610 non-null   object        \n",
      " 7   Round       2610 non-null   object        \n",
      " 8   Best of     2610 non-null   int64         \n",
      " 9   Winner      2610 non-null   object        \n",
      " 10  Loser       2610 non-null   object        \n",
      " 11  WRank       2606 non-null   float64       \n",
      " 12  LRank       2597 non-null   float64       \n",
      " 13  Comment     2610 non-null   object        \n",
      "dtypes: datetime64[ns](1), float64(2), int64(2), object(9)\n",
      "memory usage: 285.6+ KB\n"
     ]
    }
   ],
   "source": [
    "#Showing the number of non-missed values per column\n",
    "df.info()"
   ]
  },
  {
   "cell_type": "markdown",
   "metadata": {},
   "source": [
    "We can see that there are some missing values in \"WRank\" and \"LRank\", but it will not affect on the performance of the work."
   ]
  },
  {
   "cell_type": "markdown",
   "metadata": {},
   "source": [
    "### 4.2.4 Checking the dataset for duplicates\n"
   ]
  },
  {
   "cell_type": "code",
   "execution_count": 11,
   "metadata": {},
   "outputs": [
    {
     "name": "stdout",
     "output_type": "stream",
     "text": [
      "There are no duplicates\n"
     ]
    }
   ],
   "source": [
    "# Checking for duplicated values, return True if there are any\n",
    "k = df.duplicated()\n",
    "# Checking for Bool values, return False if all values are False\n",
    "q = k.any()\n",
    "if q == False:\n",
    "    print(\"There are no duplicates\")\n",
    "else:\n",
    "    print(\"There are duplicates\")"
   ]
  },
  {
   "cell_type": "markdown",
   "metadata": {},
   "source": [
    "We can see that there is no duplicates in the dataset."
   ]
  },
  {
   "cell_type": "code",
   "execution_count": 12,
   "metadata": {},
   "outputs": [
    {
     "data": {
      "text/html": [
       "<div>\n",
       "<style scoped>\n",
       "    .dataframe tbody tr th:only-of-type {\n",
       "        vertical-align: middle;\n",
       "    }\n",
       "\n",
       "    .dataframe tbody tr th {\n",
       "        vertical-align: top;\n",
       "    }\n",
       "\n",
       "    .dataframe thead th {\n",
       "        text-align: right;\n",
       "    }\n",
       "</style>\n",
       "<table border=\"1\" class=\"dataframe\">\n",
       "  <thead>\n",
       "    <tr style=\"text-align: right;\">\n",
       "      <th></th>\n",
       "      <th>ATP</th>\n",
       "      <th>Location</th>\n",
       "      <th>Tournament</th>\n",
       "      <th>Date</th>\n",
       "      <th>Series</th>\n",
       "      <th>Court</th>\n",
       "      <th>Surface</th>\n",
       "      <th>Round</th>\n",
       "      <th>Best of</th>\n",
       "      <th>Winner</th>\n",
       "      <th>Loser</th>\n",
       "      <th>WRank</th>\n",
       "      <th>LRank</th>\n",
       "      <th>Comment</th>\n",
       "    </tr>\n",
       "  </thead>\n",
       "  <tbody>\n",
       "    <tr>\n",
       "      <th>1</th>\n",
       "      <td>1</td>\n",
       "      <td>Brisbane</td>\n",
       "      <td>Brisbane International</td>\n",
       "      <td>2018-12-31</td>\n",
       "      <td>ATP250</td>\n",
       "      <td>Outdoor</td>\n",
       "      <td>Hard</td>\n",
       "      <td>1st Round</td>\n",
       "      <td>3</td>\n",
       "      <td>Dimitrov G.</td>\n",
       "      <td>Nishioka Y.</td>\n",
       "      <td>19.0</td>\n",
       "      <td>75.0</td>\n",
       "      <td>Completed</td>\n",
       "    </tr>\n",
       "    <tr>\n",
       "      <th>2</th>\n",
       "      <td>1</td>\n",
       "      <td>Brisbane</td>\n",
       "      <td>Brisbane International</td>\n",
       "      <td>2018-12-31</td>\n",
       "      <td>ATP250</td>\n",
       "      <td>Outdoor</td>\n",
       "      <td>Hard</td>\n",
       "      <td>1st Round</td>\n",
       "      <td>3</td>\n",
       "      <td>Raonic M.</td>\n",
       "      <td>Bedene A.</td>\n",
       "      <td>18.0</td>\n",
       "      <td>67.0</td>\n",
       "      <td>Completed</td>\n",
       "    </tr>\n",
       "    <tr>\n",
       "      <th>3</th>\n",
       "      <td>1</td>\n",
       "      <td>Brisbane</td>\n",
       "      <td>Brisbane International</td>\n",
       "      <td>2018-12-31</td>\n",
       "      <td>ATP250</td>\n",
       "      <td>Outdoor</td>\n",
       "      <td>Hard</td>\n",
       "      <td>1st Round</td>\n",
       "      <td>3</td>\n",
       "      <td>Kecmanovic M.</td>\n",
       "      <td>Mayer L.</td>\n",
       "      <td>131.0</td>\n",
       "      <td>56.0</td>\n",
       "      <td>Completed</td>\n",
       "    </tr>\n",
       "    <tr>\n",
       "      <th>4</th>\n",
       "      <td>1</td>\n",
       "      <td>Brisbane</td>\n",
       "      <td>Brisbane International</td>\n",
       "      <td>2018-12-31</td>\n",
       "      <td>ATP250</td>\n",
       "      <td>Outdoor</td>\n",
       "      <td>Hard</td>\n",
       "      <td>1st Round</td>\n",
       "      <td>3</td>\n",
       "      <td>Millman J.</td>\n",
       "      <td>Sandgren T.</td>\n",
       "      <td>38.0</td>\n",
       "      <td>61.0</td>\n",
       "      <td>Completed</td>\n",
       "    </tr>\n",
       "    <tr>\n",
       "      <th>5</th>\n",
       "      <td>1</td>\n",
       "      <td>Brisbane</td>\n",
       "      <td>Brisbane International</td>\n",
       "      <td>2018-12-31</td>\n",
       "      <td>ATP250</td>\n",
       "      <td>Outdoor</td>\n",
       "      <td>Hard</td>\n",
       "      <td>1st Round</td>\n",
       "      <td>3</td>\n",
       "      <td>Uchiyama Y.</td>\n",
       "      <td>Humbert U.</td>\n",
       "      <td>185.0</td>\n",
       "      <td>102.0</td>\n",
       "      <td>Completed</td>\n",
       "    </tr>\n",
       "    <tr>\n",
       "      <th>...</th>\n",
       "      <td>...</td>\n",
       "      <td>...</td>\n",
       "      <td>...</td>\n",
       "      <td>...</td>\n",
       "      <td>...</td>\n",
       "      <td>...</td>\n",
       "      <td>...</td>\n",
       "      <td>...</td>\n",
       "      <td>...</td>\n",
       "      <td>...</td>\n",
       "      <td>...</td>\n",
       "      <td>...</td>\n",
       "      <td>...</td>\n",
       "      <td>...</td>\n",
       "    </tr>\n",
       "    <tr>\n",
       "      <th>2606</th>\n",
       "      <td>66</td>\n",
       "      <td>London</td>\n",
       "      <td>Masters Cup</td>\n",
       "      <td>2019-11-15</td>\n",
       "      <td>Masters Cup</td>\n",
       "      <td>Indoor</td>\n",
       "      <td>Hard</td>\n",
       "      <td>Round Robin</td>\n",
       "      <td>3</td>\n",
       "      <td>Nadal R.</td>\n",
       "      <td>Tsitsipas S.</td>\n",
       "      <td>1.0</td>\n",
       "      <td>6.0</td>\n",
       "      <td>Completed</td>\n",
       "    </tr>\n",
       "    <tr>\n",
       "      <th>2607</th>\n",
       "      <td>66</td>\n",
       "      <td>London</td>\n",
       "      <td>Masters Cup</td>\n",
       "      <td>2019-11-15</td>\n",
       "      <td>Masters Cup</td>\n",
       "      <td>Indoor</td>\n",
       "      <td>Hard</td>\n",
       "      <td>Round Robin</td>\n",
       "      <td>3</td>\n",
       "      <td>Zverev A.</td>\n",
       "      <td>Medvedev D.</td>\n",
       "      <td>7.0</td>\n",
       "      <td>4.0</td>\n",
       "      <td>Completed</td>\n",
       "    </tr>\n",
       "    <tr>\n",
       "      <th>2608</th>\n",
       "      <td>66</td>\n",
       "      <td>London</td>\n",
       "      <td>Masters Cup</td>\n",
       "      <td>2019-11-16</td>\n",
       "      <td>Masters Cup</td>\n",
       "      <td>Indoor</td>\n",
       "      <td>Hard</td>\n",
       "      <td>Semifinals</td>\n",
       "      <td>3</td>\n",
       "      <td>Tsitsipas S.</td>\n",
       "      <td>Federer R.</td>\n",
       "      <td>6.0</td>\n",
       "      <td>3.0</td>\n",
       "      <td>Completed</td>\n",
       "    </tr>\n",
       "    <tr>\n",
       "      <th>2609</th>\n",
       "      <td>66</td>\n",
       "      <td>London</td>\n",
       "      <td>Masters Cup</td>\n",
       "      <td>2019-11-16</td>\n",
       "      <td>Masters Cup</td>\n",
       "      <td>Indoor</td>\n",
       "      <td>Hard</td>\n",
       "      <td>Semifinals</td>\n",
       "      <td>3</td>\n",
       "      <td>Thiem D.</td>\n",
       "      <td>Zverev A.</td>\n",
       "      <td>5.0</td>\n",
       "      <td>7.0</td>\n",
       "      <td>Completed</td>\n",
       "    </tr>\n",
       "    <tr>\n",
       "      <th>2610</th>\n",
       "      <td>66</td>\n",
       "      <td>London</td>\n",
       "      <td>Masters Cup</td>\n",
       "      <td>2019-11-17</td>\n",
       "      <td>Masters Cup</td>\n",
       "      <td>Indoor</td>\n",
       "      <td>Hard</td>\n",
       "      <td>The Final</td>\n",
       "      <td>3</td>\n",
       "      <td>Tsitsipas S.</td>\n",
       "      <td>Thiem D.</td>\n",
       "      <td>6.0</td>\n",
       "      <td>5.0</td>\n",
       "      <td>Completed</td>\n",
       "    </tr>\n",
       "  </tbody>\n",
       "</table>\n",
       "<p>2610 rows × 14 columns</p>\n",
       "</div>"
      ],
      "text/plain": [
       "      ATP  Location              Tournament       Date       Series    Court  \\\n",
       "1       1  Brisbane  Brisbane International 2018-12-31       ATP250  Outdoor   \n",
       "2       1  Brisbane  Brisbane International 2018-12-31       ATP250  Outdoor   \n",
       "3       1  Brisbane  Brisbane International 2018-12-31       ATP250  Outdoor   \n",
       "4       1  Brisbane  Brisbane International 2018-12-31       ATP250  Outdoor   \n",
       "5       1  Brisbane  Brisbane International 2018-12-31       ATP250  Outdoor   \n",
       "...   ...       ...                     ...        ...          ...      ...   \n",
       "2606   66    London             Masters Cup 2019-11-15  Masters Cup   Indoor   \n",
       "2607   66    London             Masters Cup 2019-11-15  Masters Cup   Indoor   \n",
       "2608   66    London             Masters Cup 2019-11-16  Masters Cup   Indoor   \n",
       "2609   66    London             Masters Cup 2019-11-16  Masters Cup   Indoor   \n",
       "2610   66    London             Masters Cup 2019-11-17  Masters Cup   Indoor   \n",
       "\n",
       "     Surface        Round  Best of         Winner          Loser  WRank  \\\n",
       "1       Hard    1st Round        3    Dimitrov G.    Nishioka Y.   19.0   \n",
       "2       Hard    1st Round        3      Raonic M.      Bedene A.   18.0   \n",
       "3       Hard    1st Round        3  Kecmanovic M.       Mayer L.  131.0   \n",
       "4       Hard    1st Round        3     Millman J.    Sandgren T.   38.0   \n",
       "5       Hard    1st Round        3    Uchiyama Y.     Humbert U.  185.0   \n",
       "...      ...          ...      ...            ...            ...    ...   \n",
       "2606    Hard  Round Robin        3      Nadal R.   Tsitsipas S.     1.0   \n",
       "2607    Hard  Round Robin        3     Zverev A.    Medvedev D.     7.0   \n",
       "2608    Hard   Semifinals        3  Tsitsipas S.     Federer R.     6.0   \n",
       "2609    Hard   Semifinals        3      Thiem D.      Zverev A.     5.0   \n",
       "2610    Hard    The Final        3  Tsitsipas S.       Thiem D.     6.0   \n",
       "\n",
       "      LRank    Comment  \n",
       "1      75.0  Completed  \n",
       "2      67.0  Completed  \n",
       "3      56.0  Completed  \n",
       "4      61.0  Completed  \n",
       "5     102.0  Completed  \n",
       "...     ...        ...  \n",
       "2606    6.0  Completed  \n",
       "2607    4.0  Completed  \n",
       "2608    3.0  Completed  \n",
       "2609    7.0  Completed  \n",
       "2610    5.0  Completed  \n",
       "\n",
       "[2610 rows x 14 columns]"
      ]
     },
     "execution_count": 12,
     "metadata": {},
     "output_type": "execute_result"
    }
   ],
   "source": [
    "# Finally, let's take a look at the results of data cleaning.\n",
    "df"
   ]
  },
  {
   "cell_type": "markdown",
   "metadata": {},
   "source": [
    "   **There are some missing values in the following columns:**\n",
    "1. WRank - the players rank can be very low and because of that, their rank is not recorded in the dataset.\n",
    "2. LRank - the players rank who lose the match can be very low and their rank is not recorded in the dataset.\n",
    "\n",
    "It is not going to affect on performance of the work and we can easily continue our analysis."
   ]
  },
  {
   "cell_type": "markdown",
   "metadata": {},
   "source": [
    "## 5. Data analysis and visualization\n",
    "\n",
    "In this part of the project, we are going to answer the research questions of project. "
   ]
  },
  {
   "cell_type": "markdown",
   "metadata": {},
   "source": [
    "### 5.1 Q1: Analysis of the court, surface and series of tournaments in 2019 season (bar charts and pie chart)"
   ]
  },
  {
   "cell_type": "code",
   "execution_count": 13,
   "metadata": {},
   "outputs": [
    {
     "name": "stdout",
     "output_type": "stream",
     "text": [
      "The total number of tournaments during the year is: 66\n",
      "That is the court types:\n",
      " ['Outdoor' 'Indoor']\n",
      "That is the surface types:\n",
      " ['Hard', 'Clay', 'Grass']\n",
      "That is the tournament series types:\n",
      " ['ATP250', 'ATP500', 'Grand Slam', 'Masters 1000', 'Masters Cup']\n"
     ]
    }
   ],
   "source": [
    "# General information about ATP 2019 season\n",
    "\n",
    "# Getting the number of ATP tournaments during the year\n",
    "tournament_num = len(pd.unique(df['ATP']))\n",
    "print('The total number of tournaments during the year is: '+ str(tournament_num))\n",
    "\n",
    "# Getting the types of the court\n",
    "court_types = pd.unique(df['Court'])\n",
    "\n",
    "# Getting the types of the surface\n",
    "surface = df['Surface'].unique().tolist()\n",
    "\n",
    "# Getting the types of the tournament series\n",
    "series = list(df.groupby('Series').groups.keys())\n",
    "\n",
    "print('That is the court types:\\n',court_types)\n",
    "\n",
    "print('That is the surface types:\\n',surface)\n",
    "\n",
    "print('That is the tournament series types:\\n',series)"
   ]
  },
  {
   "cell_type": "code",
   "execution_count": 14,
   "metadata": {},
   "outputs": [],
   "source": [
    "# Data preparation using the groupby method\n",
    "# Getting the distribution of court tournaments\n",
    "court_info = df.groupby('Court')['ATP'].nunique()"
   ]
  },
  {
   "cell_type": "code",
   "execution_count": 41,
   "metadata": {},
   "outputs": [
    {
     "data": {
      "image/png": "[encoded data removed]",
      "text/plain": [
       "<Figure size 432x432 with 1 Axes>"
      ]
     },
     "metadata": {
      "needs_background": "light"
     },
     "output_type": "display_data"
    }
   ],
   "source": [
    "# Showing the acquired data by using barplot\n",
    "fig,ax = plt.subplots(figsize = (6,6))\n",
    "# Barplot values\n",
    "sns.barplot(x = court_info.index,y = court_info,palette = 'Set1').set_title('The distribution of tournaments by court')\n",
    "# Assigning the labels\n",
    "ax.set_ylabel('The number of tournaments')\n",
    "ax.set_xlabel('The court types')\n",
    "# Assigning the fontsize of plot\n",
    "plt.rcParams['font.size'] = 15\n",
    "plt.show()"
   ]
  },
  {
   "cell_type": "markdown",
   "metadata": {},
   "source": [
    "From the **figure** above, we can see that the number of tournaments that is carrying out outside (outdoor) of the building is much greater than inside (indoor) one."
   ]
  },
  {
   "cell_type": "code",
   "execution_count": 16,
   "metadata": {},
   "outputs": [
    {
     "name": "stdout",
     "output_type": "stream",
     "text": [
      "This is the surface types and the number of tournaments:  ['Hard', 'Clay', 'Grass']\n"
     ]
    }
   ],
   "source": [
    "# Data preparation by using the merge of two columns\n",
    "\n",
    "# Working with particular columns in the dataset\n",
    "surface_df = pd.DataFrame(df,columns = ['ATP','Surface'])\n",
    "\n",
    "# Combining two columns in order to do data preparation\n",
    "surface_df[\"Surface count\"] = surface_df[\"ATP\"].map(str) + \" \" + surface_df[\"Surface\"]\n",
    "\n",
    "#Getting unique data from column\n",
    "surface = pd.unique(surface_df['Surface count'])\n",
    "\n",
    "# Declaration of dictionary in order to save prepared data\n",
    "surface_count_dict = {}\n",
    "\n",
    "for x in surface:\n",
    "# Splitting data into list\n",
    "    d = x.split()\n",
    "# Removing the second part of list \n",
    "    removal = d.pop(1)\n",
    "# Changing the datatype and getting prepared data\n",
    "    data = ''.join(removal)\n",
    "# Adding prepared data into the dictionary\n",
    "    if data in surface_count_dict:\n",
    "        surface_count_dict[data] = surface_count_dict[data]+1\n",
    "    else:\n",
    "        surface_count_dict[data] = 1\n",
    "    \n",
    "print('This is the surface types and the number of tournaments: ',list(surface_count_dict.keys()))"
   ]
  },
  {
   "cell_type": "code",
   "execution_count": 17,
   "metadata": {},
   "outputs": [
    {
     "data": {
      "image/png": "[encoded data removed]",
      "text/plain": [
       "<Figure size 432x432 with 1 Axes>"
      ]
     },
     "metadata": {
      "needs_background": "light"
     },
     "output_type": "display_data"
    }
   ],
   "source": [
    "#5.2 \n",
    "\n",
    "# Getting values for x and y-axis\n",
    "surface_num = list(surface_count_dict.values())\n",
    "surface_type = list(surface_count_dict.keys()) \n",
    "\n",
    "# Assigning the figure and its size \n",
    "fig, ax = plt.subplots(figsize = (6,6))\n",
    "\n",
    "# Setting the colors\n",
    "colors = ['b','y','g']\n",
    "\n",
    "# Setting the details for the graph\n",
    "# Asssigning the barplot by values and colors\n",
    "ax.bar(surface_type,surface_num,color = colors)\n",
    "# Assigning the title of plot\n",
    "ax.set_title( 'The distribution of tournaments by surface')\n",
    "# Assigning the lables\n",
    "ax.set_ylabel('Count')\n",
    "ax.set_xlabel('Surface type')\n",
    "# Assigning the fontsize of plot\n",
    "plt.rcParams['font.size'] = 15\n",
    "plt.show()"
   ]
  },
  {
   "cell_type": "markdown",
   "metadata": {},
   "source": [
    "From the **figure** above, we can see that the \"Hard\" surface is the most popular one, the second goes 'Clay' and Grass is less popular than others."
   ]
  },
  {
   "cell_type": "code",
   "execution_count": 18,
   "metadata": {},
   "outputs": [
    {
     "data": {
      "text/plain": [
       "ATP250          1085\n",
       "Masters 1000     567\n",
       "Grand Slam       508\n",
       "ATP500           435\n",
       "Masters Cup       15\n",
       "Name: Series, dtype: int64"
      ]
     },
     "execution_count": 18,
     "metadata": {},
     "output_type": "execute_result"
    }
   ],
   "source": [
    "# Getting the total amount of matches per tournament series\n",
    "matches_per_tour = df['Series'].value_counts()\n",
    "matches_per_tour"
   ]
  },
  {
   "cell_type": "code",
   "execution_count": 19,
   "metadata": {},
   "outputs": [],
   "source": [
    "# Data preparation by using the merge of two columns\n",
    "# Working with particular columns in the dataset\n",
    "series_df = pd.DataFrame(df,columns = ['ATP','Series'])\n",
    "\n",
    "# Combining two columns\n",
    "series_df[\"Series count\"] = series_df[\"ATP\"].map(str) + \" \" + series_df[\"Series\"]\n",
    "\n",
    "#Getting unique data from column\n",
    "series = pd.unique(series_df['Series count'])\n",
    "\n",
    "# Creation of dict where the data will be stored\n",
    "series_count_dict = {}\n",
    "\n",
    "# Data preparation\n",
    "for x in series:\n",
    "# Splitting data into list\n",
    "    d = x.split()\n",
    "# Removing the second part of list \n",
    "    removal = d.pop(1)\n",
    "# Changing the datatype and getting prepared data\n",
    "    data = ''.join(removal)\n",
    "# Adding prepared data into the dict\n",
    "    if data in series_count_dict:\n",
    "        series_count_dict[data] = series_count_dict[data]+1\n",
    "    else:\n",
    "        series_count_dict[data] = 1\n"
   ]
  },
  {
   "cell_type": "code",
   "execution_count": 20,
   "metadata": {},
   "outputs": [
    {
     "data": {
      "text/html": [
       "<div>\n",
       "<style scoped>\n",
       "    .dataframe tbody tr th:only-of-type {\n",
       "        vertical-align: middle;\n",
       "    }\n",
       "\n",
       "    .dataframe tbody tr th {\n",
       "        vertical-align: top;\n",
       "    }\n",
       "\n",
       "    .dataframe thead th {\n",
       "        text-align: right;\n",
       "    }\n",
       "</style>\n",
       "<table border=\"1\" class=\"dataframe\">\n",
       "  <thead>\n",
       "    <tr style=\"text-align: right;\">\n",
       "      <th></th>\n",
       "      <th>Count</th>\n",
       "    </tr>\n",
       "  </thead>\n",
       "  <tbody>\n",
       "    <tr>\n",
       "      <th>ATP250</th>\n",
       "      <td>39</td>\n",
       "    </tr>\n",
       "    <tr>\n",
       "      <th>Grand</th>\n",
       "      <td>4</td>\n",
       "    </tr>\n",
       "    <tr>\n",
       "      <th>ATP500</th>\n",
       "      <td>13</td>\n",
       "    </tr>\n",
       "    <tr>\n",
       "      <th>Masters</th>\n",
       "      <td>10</td>\n",
       "    </tr>\n",
       "  </tbody>\n",
       "</table>\n",
       "</div>"
      ],
      "text/plain": [
       "         Count\n",
       "ATP250      39\n",
       "Grand        4\n",
       "ATP500      13\n",
       "Masters     10"
      ]
     },
     "execution_count": 20,
     "metadata": {},
     "output_type": "execute_result"
    }
   ],
   "source": [
    "# The number of tournaments per series\n",
    "tournaments_counts = pd.DataFrame.from_dict(series_count_dict, columns=['Count'],orient = 'index')\n",
    "tournaments_counts"
   ]
  },
  {
   "cell_type": "code",
   "execution_count": 21,
   "metadata": {},
   "outputs": [
    {
     "data": {
      "image/png": "[encoded data removed]",
      "text/plain": [
       "<Figure size 504x504 with 1 Axes>"
      ]
     },
     "metadata": {},
     "output_type": "display_data"
    }
   ],
   "source": [
    "# Visualization of the information shown above\n",
    "#Assigning the values for pie-chart\n",
    "values = list(series_count_dict.values())\n",
    "keys = list(series_count_dict.keys())\n",
    "\n",
    "# Exploding amount of pie chart part\n",
    "myexplode = [0.1, 0, 0, 0]\n",
    "# Assigning the figure and the size\n",
    "plt.figure(figsize = (7,7))\n",
    "# Assigning the pie chart by values\n",
    "plt.pie(values, labels = keys,autopct = '%1.2f%%',explode = myexplode,shadow = True)\n",
    "# Assinging the title\n",
    "plt.title('Distribution of tournaments series')\n",
    "# Assigning the legend of the pie\n",
    "plt.legend(title = 'Series:')\n",
    "# Assigning the font size \n",
    "plt.rcParams['font.size'] = 13\n",
    "# Showing the pie chart\n",
    "plt.show()"
   ]
  },
  {
   "cell_type": "markdown",
   "metadata": {},
   "source": [
    "From the **figure**  above, we can conclude that ATP250 is worth 59.09% of total tournaments in 2019 season, after that goes ATP500 with 19.70% and Masters with 15.15%, while Grand Slams is keeping the last place with 6.06% respectively. "
   ]
  },
  {
   "cell_type": "markdown",
   "metadata": {},
   "source": [
    "**Distribution analysis** <br>\n",
    "By looking at the graphs presented above, we can see that ATP250 was the most popular tournament series that had a total of 59.09% of all tournament series, 'Hard' surface was the most frequently used surface with the frequency above 35 tournaments on it and outdoor courts was the dominant by court distribution which is approximately above 50 tournaments."
   ]
  },
  {
   "cell_type": "markdown",
   "metadata": {},
   "source": [
    "### 5.2 Q2: The analysis of the popularity of tournaments by the time of the year (countplot,barplot and pie chart)"
   ]
  },
  {
   "cell_type": "code",
   "execution_count": 22,
   "metadata": {},
   "outputs": [
    {
     "data": {
      "text/plain": [
       "count     12.000000\n",
       "mean     217.500000\n",
       "std      111.420171\n",
       "min       17.000000\n",
       "25%      180.500000\n",
       "50%      230.000000\n",
       "75%      298.750000\n",
       "max      354.000000\n",
       "Name: Date, dtype: float64"
      ]
     },
     "execution_count": 22,
     "metadata": {},
     "output_type": "execute_result"
    }
   ],
   "source": [
    "# Getting the month of the played matches from the 'Date' column\n",
    "month = df['Date'].dt.month\n",
    "# Showing the statistics of the played matches by month\n",
    "month.value_counts().describe()\n"
   ]
  },
  {
   "cell_type": "markdown",
   "metadata": {},
   "source": [
    "From the information presented above, we can see that matches are played all over the year, as it is showed 12 months. 218 matches are played in average monthly, the minimum matches played within a month is 17 and maximum matches played within a season is equal to 354."
   ]
  },
  {
   "cell_type": "code",
   "execution_count": 42,
   "metadata": {},
   "outputs": [
    {
     "data": {
      "image/png": "[encoded data removed]",
      "text/plain": [
       "<Figure size 432x432 with 1 Axes>"
      ]
     },
     "metadata": {
      "needs_background": "light"
     },
     "output_type": "display_data"
    }
   ],
   "source": [
    "# Working with particular columns of dataframe\n",
    "month_df = pd.DataFrame(df,columns = ['ATP','Date'])\n",
    "# Getting the months from Date column\n",
    "month_df['Month']=month_df['Date'].dt.month\n",
    "# Showing the acquired data by using countplot\n",
    "fig,ax = plt.subplots(figsize = (6,6))\n",
    "# Countplot values\n",
    "sns.countplot(data = month_df,x='Month',palette = 'Set1').set_title('The distribution of tournaments by court')\n",
    "# Setting the labels\n",
    "ax.set_xlabel('The month')\n",
    "ax.set_ylabel('The number of matches')\n",
    "ax.set_title('The distribution of the played matches by the months')\n",
    "plt.rcParams['font.size'] = 15\n",
    "plt.show()"
   ]
  },
  {
   "cell_type": "markdown",
   "metadata": {},
   "source": [
    "From the **figure**  above, we can see that the highest month by played matches is 7, which is July and after that goes February, which is 2. From the other side, the month with the least played matches is 12, which is December."
   ]
  },
  {
   "cell_type": "code",
   "execution_count": 24,
   "metadata": {},
   "outputs": [
    {
     "data": {
      "text/plain": [
       "count    12.000000\n",
       "mean      6.833333\n",
       "std       2.757909\n",
       "min       2.000000\n",
       "25%       5.750000\n",
       "50%       7.000000\n",
       "75%       7.500000\n",
       "max      12.000000\n",
       "Name: ATP, dtype: float64"
      ]
     },
     "execution_count": 24,
     "metadata": {},
     "output_type": "execute_result"
    }
   ],
   "source": [
    "# Showing the descriptive information about the tournaments played per months\n",
    "month_info = month_df.groupby('Month')['ATP'].nunique()\n",
    "month_info.describe()"
   ]
  },
  {
   "cell_type": "markdown",
   "metadata": {},
   "source": [
    "We can see that, there are approximately 7 tournaments per month in average and the minimum tournament number per month is 2 and the maximum number is 12.  Let's visualize that information using barplot."
   ]
  },
  {
   "cell_type": "code",
   "execution_count": 25,
   "metadata": {},
   "outputs": [
    {
     "data": {
      "image/png": "[encoded data removed]",
      "text/plain": [
       "<Figure size 432x432 with 1 Axes>"
      ]
     },
     "metadata": {
      "needs_background": "light"
     },
     "output_type": "display_data"
    }
   ],
   "source": [
    "# Showing the acquired data by using countplot\n",
    "fig,ax = plt.subplots(figsize = (6,6))\n",
    "# The barplot values\n",
    "sns.barplot(x=month_info.index,y=month_info)\n",
    "# Setting the labels\n",
    "ax.set_xlabel('The month')\n",
    "ax.set_ylabel('The number of tournaments')\n",
    "ax.set_title('The distribution of the tournaments number by the months')\n",
    "plt.rcParams['font.size'] = 15\n",
    "plt.show()"
   ]
  },
  {
   "cell_type": "markdown",
   "metadata": {},
   "source": [
    "From the **figure** above, we can see that some of the tournaments can be arranged in the way, where the tournaments can be played at the junction of two months,so the tournament can start at the end of one month and end at the second month. As well as, we can see that the highest number of tournaments is February, which is 2 and after that goes, July which is 7. The least number of tournaments is November, which is 11."
   ]
  },
  {
   "cell_type": "code",
   "execution_count": 26,
   "metadata": {},
   "outputs": [],
   "source": [
    "# Creation of new dataframe with particular columns\n",
    "season_df = pd.DataFrame(df,columns = ['ATP','Date'])\n",
    "# Getting the months from Date column\n",
    "season_df['Month']=season_df['Date'].dt.month\n",
    "# Assigning the month number with season of the year\n",
    "winter = (12,1,2)\n",
    "spring = (3,4,5)\n",
    "summer = (6,7,8)\n",
    "autumn  = (9,10,11)\n",
    "# Creation of list with conditions\n",
    "condition = [\n",
    "    (season_df['Month'].isin(winter)),\n",
    "    (season_df['Month'].isin(spring)),\n",
    "    (season_df['Month'].isin(autumn)),\n",
    "    (season_df['Month'].isin(summer))]\n",
    "\n",
    "# Creation of list which will be assigned to the conditions\n",
    "values = ['Winter', 'Spring', 'Autumn', 'Summer']\n",
    "\n",
    "# Creation of new column and assigning values using np.select where conditions and values will be the data from the list\n",
    "season_df['Season'] = np.select(condition, values)\n"
   ]
  },
  {
   "cell_type": "code",
   "execution_count": 27,
   "metadata": {},
   "outputs": [
    {
     "data": {
      "image/png": "[encoded data removed]",
      "text/plain": [
       "<Figure size 576x576 with 1 Axes>"
      ]
     },
     "metadata": {},
     "output_type": "display_data"
    }
   ],
   "source": [
    "#Assigning the values for pie-chart\n",
    "values = season_df.groupby('Season')['ATP'].nunique().tolist()\n",
    "keys = season_df.groupby('Season')['ATP'].nunique().index.tolist()\n",
    "\n",
    "# Assigning the figure and the size\n",
    "plt.figure(figsize = (8,8))\n",
    "# Assigning the pie chart by values\n",
    "plt.pie(values, labels = keys,autopct = '%1.2f%%',shadow = True)\n",
    "# Assinging the title\n",
    "plt.title('Distribution of tournaments by season of the year')\n",
    "# Assigning the legend of the pie\n",
    "plt.legend(title = 'Season of the year')\n",
    "# Assigning the font size \n",
    "plt.rcParams['font.size'] = 15\n",
    "# Showing the pie chart\n",
    "plt.show()"
   ]
  },
  {
   "cell_type": "markdown",
   "metadata": {},
   "source": [
    "From the **figure**  above, we can see that the percentage of the tournaments by the season is relatively the same. The biggest part of the pie goes to Summer, which means that summer is the most popular and suitable time for tennis tournaments and there are the highest number of tournaments."
   ]
  },
  {
   "cell_type": "markdown",
   "metadata": {},
   "source": [
    "### 5.3 Q3: The analysis of the player matches during the season (boxplot, barplots)"
   ]
  },
  {
   "cell_type": "code",
   "execution_count": 28,
   "metadata": {},
   "outputs": [
    {
     "name": "stdout",
     "output_type": "stream",
     "text": [
      "The total number of official ATP matches in 2019 season:\n",
      " 2610\n",
      "The total number of players who played in official ATP matches in 2019 season:\n",
      " 283\n"
     ]
    }
   ],
   "source": [
    "# Data preparation using Counter\n",
    "\n",
    "# Let's get the names of the players first and getting rid of the space in the end of word\n",
    "player_winner_names = df['Winner'].str.rstrip().tolist()\n",
    "player_lose_names = df['Loser'].str.rstrip().tolist()\n",
    "\n",
    "# Assinging the dictionary where the players name will be saved\n",
    "player_count_dict = {}\n",
    "# Getting the total amount of matches during 2019 season\n",
    "print('The total number of official ATP matches in 2019 season:\\n',len(df))\n",
    "\n",
    "# Data preparation\n",
    "# Firstly, working with 'Winner' column and getting the total number of played games\n",
    "for x in player_winner_names:\n",
    "    if x in player_count_dict:\n",
    "        player_count_dict[x] = player_count_dict[x]+1\n",
    "    else:\n",
    "        player_count_dict[x] = 1\n",
    "# Secondly, working with 'Loser' columns and getting the total number of played games\n",
    "for x in player_lose_names:\n",
    "    if x in player_count_dict:\n",
    "        player_count_dict[x] = player_count_dict[x]+1\n",
    "    else:\n",
    "        player_count_dict[x] = 1\n",
    "\n",
    "# Assigning the variable in order to get particular data from the dictionary using Counter\n",
    "Cplayer = Counter(player_count_dict)\n",
    "\n",
    "# Getting the total number of players who played in 2019 season\n",
    "print('The total number of players who played in official ATP matches in 2019 season:\\n',len(Cplayer.keys()))\n"
   ]
  },
  {
   "cell_type": "code",
   "execution_count": 29,
   "metadata": {},
   "outputs": [
    {
     "name": "stdout",
     "output_type": "stream",
     "text": [
      "Completed    2530\n",
      "Retired        57\n",
      "Walkover       21\n",
      "Awarded         1\n",
      "Sched           1\n",
      "Name: Comment, dtype: int64\n"
     ]
    }
   ],
   "source": [
    "# Let's see the comments of players matches during the season\n",
    "comments = df['Comment'].value_counts()\n",
    "print(comments)"
   ]
  },
  {
   "cell_type": "markdown",
   "metadata": {},
   "source": [
    "We can see that particularly all the matches were fully completed (2530). Some of the players retired (57) before the match, while small part of players made a walkover (21). And, finally one match in the season was 'Sched' and one match was 'awarded' which means that player was fined where judge of the match gave an automatic defeat for that player during the match."
   ]
  },
  {
   "cell_type": "code",
   "execution_count": 30,
   "metadata": {},
   "outputs": [
    {
     "data": {
      "image/png": "[encoded data removed]",
      "text/plain": [
       "<Figure size 432x432 with 1 Axes>"
      ]
     },
     "metadata": {
      "needs_background": "light"
     },
     "output_type": "display_data"
    }
   ],
   "source": [
    "#5.4\n",
    "# Getting the amount of played games by player\n",
    "values = list(Cplayer.values())\n",
    "# Getting the boxplot of matches per players\n",
    "fig,ax = plt.subplots(figsize = (6,6))\n",
    "# Assigning the boxplot by values\n",
    "ax.boxplot(values,vert = False)\n",
    "# Assigning the title of plot\n",
    "ax.set_title('The distribution of played matches by players within a season')\n",
    "# Assigning the x-axis of boxplot\n",
    "ax.set_xlabel('Played matches')\n",
    "# Assigning the y-axis of boxplot\n",
    "ax.set_ylabel('Players')\n",
    "# Assigning the fontsize of plot\n",
    "plt.rcParams['font.size'] = 14\n",
    "# Showing the boxplot\n",
    "plt.show()"
   ]
  },
  {
   "cell_type": "markdown",
   "metadata": {},
   "source": [
    "From the **figure**  above, we can see that the median number of matches per player is approximately equal to 10 and the maximum number of played match per player is seem to be 79, while the minimum is equal to 1. As median is closer to the bottom, we can conclude that the box is skewed to the right."
   ]
  },
  {
   "cell_type": "code",
   "execution_count": 31,
   "metadata": {},
   "outputs": [],
   "source": [
    "# Data preparation using value_counts()\n",
    "# Getting rid of space after values and turning them into list by win\n",
    "k_win = df['Winner'].str.rstrip().value_counts().index.tolist()\n",
    "v_win = df['Winner'].str.rstrip().value_counts().tolist()\n",
    "\n",
    "# Getting the first 20 values in the list\n",
    "listk = k_win[:20]\n",
    "listv = v_win[:20]\n",
    "\n",
    "# Getting rid of space after values and turning them into list by lose\n",
    "k_lose = df['Loser'].str.rstrip().value_counts().index.tolist()\n",
    "v_lose = df['Loser'].str.rstrip().value_counts().tolist()\n",
    "\n",
    "# Getting first 20 values in the list\n",
    "listk_l = k_lose[:20]\n",
    "listv_l = v_lose[:20]"
   ]
  },
  {
   "cell_type": "code",
   "execution_count": 32,
   "metadata": {},
   "outputs": [
    {
     "data": {
      "image/png": "[encoded data removed]",
      "text/plain": [
       "<Figure size 1224x576 with 2 Axes>"
      ]
     },
     "metadata": {
      "needs_background": "light"
     },
     "output_type": "display_data"
    }
   ],
   "source": [
    "#5.5\n",
    "# The plots with players performance\n",
    "colors = ['b']\n",
    "# Assigning the figure and its size\n",
    "plt.figure(figsize = (17,8) ) \n",
    "# Assigning of subplot and the position\n",
    "plt.subplot(131)\n",
    "# Assigning the barplot by values\n",
    "plt.barh(listk,listv,color = colors)\n",
    "# Assigning the title\n",
    "plt.title( 'The top 20 player by wins')\n",
    "# Assigning the labels\n",
    "plt.xlabel('Count')\n",
    "plt.ylabel('Tennis players')\n",
    "plt.rcParams['font.size'] = 15\n",
    "colors = ['c']\n",
    "# Assigning the second subplot\n",
    "plt.subplot(133)\n",
    "# Assigning the barplot\n",
    "plt.barh(listk_l,listv_l,color = colors)\n",
    "#Assigning the title\n",
    "plt.title( 'The top 20 player by lose')\n",
    "#Assigning the labels\n",
    "plt.xlabel('Count')\n",
    "plt.ylabel('Tennis players')\n",
    "# Assigning the main title of plot \n",
    "plt.suptitle('Distribution of the played matches by top wins and losses')\n",
    "plt.rcParams['font.size'] = 15\n",
    "# Showing the results \n",
    "plt.show()"
   ]
  },
  {
   "cell_type": "markdown",
   "metadata": {},
   "source": [
    "From the **figure**  above, we can see the top 20 players by win (in the left) and by lose (in the right), so the leader of the season by amount of winning matches is Medvedev, while the leaders by lose are Fritz, Sousa, Paire and Simon respectively. "
   ]
  },
  {
   "cell_type": "code",
   "execution_count": 33,
   "metadata": {},
   "outputs": [
    {
     "data": {
      "image/png": "[encoded data removed]",
      "text/plain": [
       "<Figure size 504x504 with 1 Axes>"
      ]
     },
     "metadata": {
      "needs_background": "light"
     },
     "output_type": "display_data"
    }
   ],
   "source": [
    "#5.6\n",
    "# Getting the top 20 players  by played matches \n",
    "high = Cplayer.most_common(20)\n",
    "# Assigning the list in order to get values\n",
    "values = []\n",
    "keys = []\n",
    "# Getting the data into separate list\n",
    "for k,v in high:\n",
    "    values.append(v)\n",
    "    keys.append(k)\n",
    "# Assigning of the figure and its size\n",
    "fig, ax = plt.subplots(figsize = (7,7))\n",
    "\n",
    "# Setting the colors\n",
    "colors = ['b','y','g','r']\n",
    "# Setting the values and colors to the graph\n",
    "ax.barh(keys,values,color = colors)\n",
    "# Assigning the title of barplot\n",
    "ax.set(title= 'The top 20 players by played matches')\n",
    "# Assigning the labels of the barplot\n",
    "ax.set_xlabel('Count')\n",
    "ax.set_ylabel('Tennis players')\n",
    "plt.rcParams['font.size'] = 14\n",
    "# Showing the top 20 players by played matches\n",
    "plt.show()\n"
   ]
  },
  {
   "cell_type": "markdown",
   "metadata": {},
   "source": [
    "From the **figure**  above, we can see the top 20 players by played matches, so the first place is going to Medvedev and Tsitsipas and after that goes Djokovic."
   ]
  },
  {
   "cell_type": "markdown",
   "metadata": {},
   "source": [
    "### 5.4 Q4: The analysis of the performance of players by titles. (barplots)"
   ]
  },
  {
   "cell_type": "code",
   "execution_count": 34,
   "metadata": {},
   "outputs": [],
   "source": [
    "# Getting the matches that is played in the final round\n",
    "finalstage = df[df['Round'] == \"The Final\"]\n",
    "# Getting the players who win the finals\n",
    "losers = finalstage.Loser\n",
    "# Getting the top 10 players by winning titles in 2019 season\n",
    "keys_loser = losers.value_counts().index[:10]\n",
    "values_loser = losers.value_counts()[:10]"
   ]
  },
  {
   "cell_type": "code",
   "execution_count": 35,
   "metadata": {},
   "outputs": [
    {
     "data": {
      "image/png": "[encoded data removed]",
      "text/plain": [
       "<Figure size 504x504 with 1 Axes>"
      ]
     },
     "metadata": {
      "needs_background": "light"
     },
     "output_type": "display_data"
    }
   ],
   "source": [
    "# Assigning of the figure and its size\n",
    "fig, ax = plt.subplots(figsize = (7,7))\n",
    "\n",
    "# Setting the colors\n",
    "colors = ['y','r','b','g']\n",
    "# Setting the values and colors to the graph\n",
    "ax.barh(keys_loser,values_loser,color = colors)\n",
    "ax.set_xlabel('The number of lose in final')\n",
    "ax.set_ylabel('The player')\n",
    "ax.set_title('The distribution of top 10 players by lose in finals')\n",
    "# Showing the plot\n",
    "plt.rcParams['font.size'] = 15\n",
    "plt.show()"
   ]
  },
  {
   "cell_type": "markdown",
   "metadata": {},
   "source": [
    "From the **figure**  above, we can see that Medvedev is the leader in losing in finals, where he lose in 5 finals, after that goes Tsitsipas and Auger-Aliassime, who have lost in 3 finals."
   ]
  },
  {
   "cell_type": "code",
   "execution_count": 36,
   "metadata": {},
   "outputs": [],
   "source": [
    "# Getting the matches that is played in the final round\n",
    "finalstage = df[df['Round'] == \"The Final\"]\n",
    "# Getting the players who win the finals\n",
    "winners = finalstage.Winner\n",
    "# Getting the top 10 players by winning titles in 2019 season\n",
    "keys_winner = winners.value_counts().index[:10]\n",
    "values_winner = winners.value_counts()[:10]"
   ]
  },
  {
   "cell_type": "code",
   "execution_count": 37,
   "metadata": {},
   "outputs": [
    {
     "data": {
      "image/png": "[encoded data removed]",
      "text/plain": [
       "<Figure size 504x504 with 1 Axes>"
      ]
     },
     "metadata": {
      "needs_background": "light"
     },
     "output_type": "display_data"
    }
   ],
   "source": [
    "# Assigning of the figure and its size\n",
    "fig, ax = plt.subplots(figsize = (7,7))\n",
    "\n",
    "# Setting the colors\n",
    "colors = ['r','g','b','y']\n",
    "# Setting the values and colors to the graph\n",
    "ax.barh(keys_winner,values_winner,color = colors)\n",
    "ax.set_xlabel('The number of titles')\n",
    "ax.set_ylabel('The player')\n",
    "ax.set_title('The distribution of top 10 players by winning titles')\n",
    "# Showing the plot\n",
    "plt.rcParams['font.size'] = 15\n",
    "plt.show()"
   ]
  },
  {
   "cell_type": "markdown",
   "metadata": {},
   "source": [
    "From the **figure**  above, we can see that Djokovic and Thiem are leaders by winning titles per each of them and after that goes Medvedev, Nadal and Federer who won 4 finals. "
   ]
  },
  {
   "cell_type": "markdown",
   "metadata": {},
   "source": [
    "### 5.5 Q5: The analysis of the effect of rank on player matches. (scatterplot, histogram)"
   ]
  },
  {
   "cell_type": "code",
   "execution_count": 38,
   "metadata": {},
   "outputs": [],
   "source": [
    "# Creation of new column according to the rank group\n",
    "df.loc[df[\"WRank\"] < df[\"LRank\"], \"Rank group\"] = 'High rank'\n",
    "df.loc[df[\"WRank\"] > df['LRank'], \"Rank group\"] = 'Low rank'\n",
    "# Deleting null values in order to do further analysis\n",
    "df= df.dropna()"
   ]
  },
  {
   "cell_type": "code",
   "execution_count": 39,
   "metadata": {},
   "outputs": [
    {
     "data": {
      "image/png": "[encoded data removed]",
      "text/plain": [
       "<Figure size 504x504 with 1 Axes>"
      ]
     },
     "metadata": {
      "needs_background": "light"
     },
     "output_type": "display_data"
    }
   ],
   "source": [
    "# Assiging the figure size\n",
    "plt.subplots(figsize = (7,7))\n",
    "# Assigning the labels \n",
    "plt.title('The winners rank comparison by match results')\n",
    "plt.ylabel('The number of matches')\n",
    "plt.xlabel('The comparison of the winners rank by match results')\n",
    "# Assigning the histogram values\n",
    "plt.hist(df['Rank group'],bins = 2)\n",
    "# Showing the plot \n",
    "plt.show()\n"
   ]
  },
  {
   "cell_type": "markdown",
   "metadata": {},
   "source": [
    "From the **figure**  above, we can see that the players with higher ranks are more likely to win the matches."
   ]
  },
  {
   "cell_type": "code",
   "execution_count": 40,
   "metadata": {},
   "outputs": [
    {
     "data": {
      "image/png": "[encoded data removed]",
      "text/plain": [
       "<Figure size 432x432 with 1 Axes>"
      ]
     },
     "metadata": {
      "needs_background": "light"
     },
     "output_type": "display_data"
    }
   ],
   "source": [
    "# Assigning the figure size\n",
    "plt.subplots(figsize = (6,6))\n",
    "# Assigning the labels\n",
    "plt.xlabel('The rank of the match winner')\n",
    "plt.ylabel('The rank of the match loser')\n",
    "plt.title('The relation between rank of players')\n",
    "# Assigning the values for scatter plot\n",
    "plt.scatter(df['WRank'],df['LRank'])\n",
    "# Showing the plot result\n",
    "plt.show()"
   ]
  },
  {
   "cell_type": "markdown",
   "metadata": {},
   "source": [
    "From the **figure**  above, we can see that the players with higher rank are more likely to play in the tournaments series, as there are lots of dots in the range between 1 and 100. So, we can conclude that player rank can affect on the performance of player."
   ]
  },
  {
   "cell_type": "markdown",
   "metadata": {},
   "source": [
    "## 6. Conclusion"
   ]
  },
  {
   "cell_type": "markdown",
   "metadata": {},
   "source": [
    "Overall, we can make an overall conclusion based on the analysis of ATP 2019 season. <br>\n",
    "\n",
    "Firstly, there were 66 tournaments in 2019 season. The most of them held outdoor. Moreover, the highest number of tournaments played in Hard courts and the biggest part of all tournaments are played in ATP 250 series. <br>\n",
    "\n",
    "Secondly, the biggest number of matches were played in July and the least number of matches are played in December. Also, the biggest number of tournaments are played in February and the least number of tournaments took place in November. Moreover, we can see that the number of tournaments distributed quite similar according to the season of the year, but in summer we have bigger amount of tournaments.<br>\n",
    "\n",
    "Thirdly, almost all of the matches played in the season are fully completed. There are some leaders by the wins in the season which is Medvedev and also he and Tsitsipas are the leaders by the played matches in the season.<br>\n",
    "\n",
    "Fourth, Medvedev is the leader by lost final matches (5), Djokovic and Thiem are the leaders by winning titles in the season (5) and after them goes Medvedev, Federer and Nadal with 4 titles respectively.<br>\n",
    "\n",
    "Finally, the rank of the players affect on the player performance, as the higher rank players are more likely to win the matches. Also, the higher ranked players are more likely to play in the tournaments. <br> "
   ]
  }
 ],
 "metadata": {
  "celltoolbar": "Edit Metadata",
  "kernelspec": {
   "display_name": "Python 3",
   "language": "python",
   "name": "python3"
  },
  "language_info": {
   "codemirror_mode": {
    "name": "ipython",
    "version": 3
   },
   "file_extension": ".py",
   "mimetype": "text/x-python",
   "name": "python",
   "nbconvert_exporter": "python",
   "pygments_lexer": "ipython3",
   "version": "3.8.3"
  }
 },
 "nbformat": 4,
 "nbformat_minor": 4
}
